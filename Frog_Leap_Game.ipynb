{
  "nbformat": 4,
  "nbformat_minor": 0,
  "metadata": {
    "colab": {
      "provenance": []
    },
    "kernelspec": {
      "name": "python3",
      "display_name": "Python 3"
    },
    "language_info": {
      "name": "python"
    }
  },
  "cells": [
    {
      "cell_type": "markdown",
      "source": [
        "# Problem statement\n",
        "\n",
        "Create famous 'Frog leap' puzzle game. Try completing the game before starting to get an idea about its working.\n",
        "[Demonstration](https://www.neok12.com/games/leap-froggies/leap-froggies.htm).\n",
        "\n",
        "\n",
        "### Rules ###\n",
        "1. The left set of frogs can only move right, the right set of frogs can only move left.\n",
        "2. Frogs can move forward one space, or move two spaces by jumping over another frog from opposite side.\n",
        "3. The puzzle is solved when the two sets of frogs have switched positions.\n",
        "\n",
        "\n",
        "## Steps to solve the problem:\n",
        "### Step1:-\n",
        "- Display green and brown frogs on the left and right sides initially.\n",
        "\n",
        "Initial Display :-  \n",
        "```\n",
        "[ 0 ,  1 ,  2 ,  3 ,  4 ,  5 ,  6 ]\n",
        "['G', 'G', 'G', '-', 'B', 'B', 'B']\n",
        "```\n",
        "<br>\n",
        "Here 'G' represents Green frogs on the left side and 'B' represents brown frogs on the right side. The '-' defines the position of empty leaf.\n",
        "(You can change display according to your imagination or convinience)\n",
        "\n",
        "### Step2:-\n",
        "Accept positions of the frog that you want to move.<br>\n",
        "Example: If we enter position 2 then the game will look like this:-\n",
        "```\n",
        "[ 0 ,  1 ,  2 ,  3 ,  4 ,  5 ,  6 ]\n",
        "['G', 'G', '-', 'G', 'B', 'B', 'B']\n",
        "```\n",
        "\n",
        "### Step3:- ###\n",
        "Define Invalid moves and add conditional 'if' statements accordingly\n",
        "#### Rules\n",
        "1. Entered position should be between 0 to 6. Or a character 'q' to quit the game.\n",
        "2. Entered position cannot be the position of empty leaf.\n",
        "3. If the selected frog position cannot perform the contraints given in rule 2 then the move is invalid.\n",
        "\n",
        "### Step4:-\n",
        "Make the appropriate move by changing the game display."
      ],
      "metadata": {
        "id": "fxZte1ZuP3yr"
      }
    },
    {
      "cell_type": "markdown",
      "source": [
        "## Step 1\n",
        "First create a list `positions` which contains the characters 'G','B' and '-' in the same sequence as given in the initial display state."
      ],
      "metadata": {
        "id": "-viYJbAFQXcJ"
      }
    },
    {
      "cell_type": "code",
      "execution_count": null,
      "metadata": {
        "id": "fSvLBrjwP0sr"
      },
      "outputs": [],
      "source": [
        "### your code here\n",
        "positions = ['G','G','G','-','B','B','B']"
      ]
    },
    {
      "cell_type": "markdown",
      "source": [
        "Now print this string ```[ 0 ,  1 ,  2 ,  3 ,  4 ,  5 ,  6 ]``` and after that print the list `positions`"
      ],
      "metadata": {
        "id": "unr1AJLSQj_4"
      }
    },
    {
      "cell_type": "code",
      "source": [
        "### your code here\n",
        "print('[ 0 ,  1 ,  2 ,  3 ,  4 ,  5 ,  6 ]')\n",
        "print(positions)"
      ],
      "metadata": {
        "id": "qqKLcfEmQgiZ",
        "colab": {
          "base_uri": "https://localhost:8080/"
        },
        "outputId": "50caba13-869f-40aa-c220-8c7c07359132"
      },
      "execution_count": null,
      "outputs": [
        {
          "output_type": "stream",
          "name": "stdout",
          "text": [
            "[ 0 ,  1 ,  2 ,  3 ,  4 ,  5 ,  6 ]\n",
            "['G', 'G', 'G', '-', 'B', 'B', 'B']\n"
          ]
        }
      ]
    },
    {
      "cell_type": "markdown",
      "source": [
        "Take position input from user and write a message as `\"Press q to quit else \\nEnter position of piece:\"`."
      ],
      "metadata": {
        "id": "DuEVsgtjQqXV"
      }
    },
    {
      "cell_type": "code",
      "source": [
        "### your code here\n",
        "pos = input(\"Press q to quit or Enter the position : \")"
      ],
      "metadata": {
        "id": "nPz65EKXQnDR",
        "colab": {
          "base_uri": "https://localhost:8080/"
        },
        "outputId": "4fe67c9a-596b-42f7-fc55-4917512722fd"
      },
      "execution_count": null,
      "outputs": [
        {
          "name": "stdout",
          "output_type": "stream",
          "text": [
            "Press q to quit or Enter the position : 1\n"
          ]
        }
      ]
    },
    {
      "cell_type": "code",
      "source": [
        "type(pos)"
      ],
      "metadata": {
        "colab": {
          "base_uri": "https://localhost:8080/"
        },
        "id": "rsBQJHpv1A0j",
        "outputId": "5b706039-f969-42ad-9473-448e9836d415"
      },
      "execution_count": null,
      "outputs": [
        {
          "output_type": "execute_result",
          "data": {
            "text/plain": [
              "str"
            ]
          },
          "metadata": {},
          "execution_count": 4
        }
      ]
    },
    {
      "cell_type": "markdown",
      "source": [
        "Now the taken input is in string format. So first check if the input is `'q'` character. If input is `'q'` then the person is quiting the game so print `'You Lose'`."
      ],
      "metadata": {
        "id": "ejy_x_eTRJmT"
      }
    },
    {
      "cell_type": "code",
      "source": [
        "### your code here\n",
        "if pos == 'q':\n",
        "  print(\"You Lose\")"
      ],
      "metadata": {
        "id": "1OrsC7P9QxO6"
      },
      "execution_count": null,
      "outputs": []
    },
    {
      "cell_type": "markdown",
      "source": [
        "Next if input character is not `'q'` then it has to be some integer. so convert input to integer format."
      ],
      "metadata": {
        "id": "yZJeDTGlRSMe"
      }
    },
    {
      "cell_type": "code",
      "source": [
        "### your code here\n",
        "pos = int(input())"
      ],
      "metadata": {
        "id": "PWZj_Js6RP2G",
        "colab": {
          "base_uri": "https://localhost:8080/"
        },
        "outputId": "cd4e91f0-9638-48d8-da14-95126648b93d"
      },
      "execution_count": null,
      "outputs": [
        {
          "name": "stdout",
          "output_type": "stream",
          "text": [
            "2\n"
          ]
        }
      ]
    },
    {
      "cell_type": "code",
      "source": [
        "### your code here\n",
        "if pos < 0 or 6 < pos:\n",
        "  print(\"Invalid Move\")"
      ],
      "metadata": {
        "id": "8_edLqe2RU8S"
      },
      "execution_count": null,
      "outputs": []
    },
    {
      "cell_type": "markdown",
      "source": [
        "A frog should be present on the selected position to make a move. If leaf is selected then it doesn't make sense. Therefore, if entered postition is same as the postition of empty leaf then the move is invalid and print `Invalid Move`"
      ],
      "metadata": {
        "id": "Va03g0l5Rlkx"
      }
    },
    {
      "cell_type": "code",
      "source": [
        "### your code here\n",
        "if positions[pos] == '-':\n",
        "  print(\"Invalid Move\")"
      ],
      "metadata": {
        "id": "uM2-D1xGRiH4"
      },
      "execution_count": null,
      "outputs": []
    },
    {
      "cell_type": "markdown",
      "source": [
        "Initialize a variable named `pos2` at value 0, to store the index of empty leaf, so that we can use it later."
      ],
      "metadata": {
        "id": "cp5q2ahQTnwI"
      }
    },
    {
      "cell_type": "code",
      "source": [
        "### your code here\n",
        "pos2 = 0"
      ],
      "metadata": {
        "id": "1SkBYDnaTpiV"
      },
      "execution_count": null,
      "outputs": []
    },
    {
      "cell_type": "markdown",
      "source": [
        "```   \n",
        "    Check if the selected frog is 'G':\n",
        "  \n",
        "        (Inside if when it's 'G'. As 'G' is selected frog can move to right only.)\n",
        "        \n",
        "        ❗condition 1\n",
        "\n",
        "        If **selected_position + 1** is less than or equal to 6 and **curent_position + 1** contains '-'\n",
        "        then it's a valid move and store that postion in `pos2`.\n",
        "        \n",
        "        ❗condition2\n",
        "\n",
        "        Else if **selected_position + 2** is less than or equal to 6 and if **current_position + 2**\n",
        "        contains '-' and if **selected_position + 1** contains 'B' then it's a valid move  and store that postion in `pos2`.\n",
        "        \n",
        "        ❗condition3:\n",
        "\n",
        "        Else remainig all are invalid, so print `Invalid Move`\n",
        "      \n",
        "```"
      ],
      "metadata": {
        "id": "V9UFD623R3Oa"
      }
    },
    {
      "cell_type": "code",
      "source": [
        "### your code here\n",
        "# i have not considerd the condition of 0 to 6\n",
        "if positions[pos] == 'G':\n",
        "  if positions[pos + 1] == '_':\n",
        "    pos2 = (pos + 1)\n",
        "  elif positions[pos + 2] == '_':\n",
        "    pos2 = (pos + 2)\n"
      ],
      "metadata": {
        "id": "IDHxpibURriq"
      },
      "execution_count": null,
      "outputs": []
    },
    {
      "cell_type": "markdown",
      "source": [
        "```\n",
        "    Check if the selected frog is 'B':\n",
        "    \n",
        "        (Inside if when it's 'B'. As 'B' is selected frog can move to left only.)\n",
        "        \n",
        "        ❗condition1:\n",
        "\n",
        "        If **selected_position - 1** is more than or equal to 0 and **curent_position - 1** contains '-' then\n",
        "        it's a valid move and and store that postion in `pos2`.\n",
        "        \n",
        "        ❗condition2:\n",
        "\n",
        "        Else if **selected_position - 2** is more than or equal to 0 and if **current_position - 2** contains '-'\n",
        "        and if **selected_position - 1** contains 'G' then it's a valid move and and store that postion in `pos2`.\n",
        "\n",
        "        ❗condition3:\n",
        "        \n",
        "        Else remainig all are invalid,, so print `Invalid Move`.\n",
        "        \n",
        "```"
      ],
      "metadata": {
        "id": "DyQX5nUsTZPF"
      }
    },
    {
      "cell_type": "code",
      "source": [
        "### your code here\n",
        "if positions[pos] == 'B':\n",
        "  if positions[pos - 1] == '_':\n",
        "    pos2 = (pos - 1)\n",
        "  elif positions[pos - 2] == '_':\n",
        "    pos2 = (pos - 2)"
      ],
      "metadata": {
        "id": "cQ2G3ZO_TWU5"
      },
      "execution_count": null,
      "outputs": []
    },
    {
      "cell_type": "markdown",
      "source": [
        "Swap the element at selected positions and calculated position2 in the list.<br> So basically we are moving the frog to next valid position by swapping elelments of array."
      ],
      "metadata": {
        "id": "Vads2oztUd4g"
      }
    },
    {
      "cell_type": "code",
      "source": [
        "### your code here\n",
        "positions[pos], positions[pos2] = positions[pos2], positions[pos]\n"
      ],
      "metadata": {
        "id": "jXOGtww7UeYQ"
      },
      "execution_count": null,
      "outputs": []
    },
    {
      "cell_type": "markdown",
      "source": [
        "Now print the display of the game again to see the change.<br>\n",
        "If we enter position 2 then the output will look like this:-\n",
        "```\n",
        "[ 0 ,  1 ,  2 ,  3 ,  4 ,  5 ,  6 ]\n",
        "['G', 'G', '-', 'G', 'B', 'B', 'B']\n",
        "```"
      ],
      "metadata": {
        "id": "8qF4Q2HsUlZ4"
      }
    },
    {
      "cell_type": "code",
      "source": [
        "### your code here\n",
        "if positions[pos]!='-':\n",
        "  if positions[pos]=='G'and positions[pos+1]==\"-\":\n",
        "      pos2=pos+1\n",
        "  elif positions[pos]==\"B\" and positions[pos-1]=='-':\n",
        "      pos2=pos-1\n",
        "\n"
      ],
      "metadata": {
        "id": "0S3oNzG3UifK"
      },
      "execution_count": null,
      "outputs": []
    },
    {
      "cell_type": "markdown",
      "source": [
        "Check for winning condition by comparing the elements of list. If player has won the game print `'You Win'`"
      ],
      "metadata": {
        "id": "EILVGu48UsH-"
      }
    },
    {
      "cell_type": "code",
      "source": [
        "### your code here\n",
        "def check_if_win(positions):\n",
        "    return positions == ['B', 'B', 'B', '-', 'G', 'G', 'G']\n",
        "while True:\n",
        "    print(\"You Win\")\n",
        "    break"
      ],
      "metadata": {
        "id": "GYkZdiA6Uote",
        "colab": {
          "base_uri": "https://localhost:8080/"
        },
        "outputId": "79d04546-e1c7-4201-8ff4-793e81578fdd"
      },
      "execution_count": null,
      "outputs": [
        {
          "output_type": "stream",
          "name": "stdout",
          "text": [
            "You Win\n"
          ]
        }
      ]
    },
    {
      "cell_type": "markdown",
      "source": [
        "Now the game should keep running until the player quits, so place all conditional statements inside an infinite loop.<br>\n",
        "\n",
        "1. We have to `'break'` the loop if the player presses `'q'` and quits.\n",
        "\n",
        "2. If the move made by player is `'Invalid Move'` then we have to `'continue'` without executing remaining part of the selected iteration.\n",
        "\n",
        "3. If player wins the game we have to `break` the loop.\n",
        "\n",
        "\n",
        "```\n",
        "Infinite loop:\n",
        "    (inside loop) while True:\n",
        "    1.Take input\n",
        "    2.Check all valid and invalid conditions of `pos`.\n",
        "    3.Make the appropriate move by calculating `pos2`.\n",
        "    4.Display game\n",
        "    4.Check winning condition\n",
        "```"
      ],
      "metadata": {
        "id": "a2a0HHjiUyQ8"
      }
    },
    {
      "cell_type": "markdown",
      "source": [
        "END\n"
      ],
      "metadata": {
        "id": "9Bj7ZyE-WN0v"
      }
    },
    {
      "cell_type": "code",
      "source": [
        "#Initial display state positions\n",
        "positions = ['G', 'G', 'G', '-', 'B', 'B', 'B']\n",
        "def display_game(positions):\n",
        "    print('[ 0 ,  1 ,  2 ,  3 ,  4 ,  5 ,  6 ]')\n",
        "    print(positions)\n",
        "#if pos isdigits move or if not can't move\n",
        "def make_valid_move(pos, positions):\n",
        "    if pos < 0 or pos > 6:\n",
        "        print(\"Invalid Move\")\n",
        "        return False\n",
        "    if positions[pos] == '-':\n",
        "        print(\"Invalid Move\")\n",
        "        return False\n",
        "    return True\n",
        "#move forward if pos+1 and pos+2 is empty\n",
        "def make_forward(pos, positions):\n",
        "    pos2 = None\n",
        "    #G can only move forward\n",
        "    if positions[pos] == 'G':\n",
        "        if pos + 1 <= 6 and positions[pos + 1] == '-':\n",
        "            pos2 = pos + 1\n",
        "        elif pos + 2 <= 6 and positions[pos + 2] == '-' and positions[pos + 1] in ['B', 'G']:\n",
        "            pos2 = pos + 2\n",
        "        else:\n",
        "            print(\"Invalid Move\")\n",
        "            return False\n",
        "    #B can only move backward\n",
        "    elif positions[pos] == 'B':\n",
        "        if pos - 1 >= 0 and positions[pos - 1] == '-':\n",
        "            pos2 = pos - 1\n",
        "        elif pos - 2 >= 0 and positions[pos - 2] == '-' and positions[pos - 1] in ['G', 'B']:\n",
        "            pos2 = pos - 2\n",
        "        else:\n",
        "            print(\"Invalid Move\")\n",
        "            return False\n",
        "    #swap the positions\n",
        "    positions[pos], positions[pos2] = positions[pos2], positions[pos]\n",
        "    return True\n",
        "#after all moves it's equal to this you win\n",
        "def check_if_win(positions):\n",
        "    return positions == ['B', 'B', 'B', '-', 'G', 'G', 'G']\n",
        "#if your final positions are not same to check_if_win you lost\n",
        "def check_if_lose(positions):\n",
        "  #Position reaches 0 index if BB or GG besides you lost\n",
        "    if positions[0] == '-':\n",
        "        if positions[1] == 'B' and positions[2] == 'B':\n",
        "            return True\n",
        "        if positions[1] == 'G' and positions[2] == 'G':\n",
        "            return True\n",
        "    #Position reaches 6 index if BB or GG besides you lost\n",
        "    if positions[6] == '-':\n",
        "        if positions[5] == 'B' and positions[4] == 'B':\n",
        "            return True\n",
        "        if positions[5] == 'G' and positions[4] == 'G':\n",
        "            return True\n",
        "    return False\n",
        "while True:\n",
        "    display_game(positions)\n",
        "    pos = input(\"Press q to quit or Enter the position: \")\n",
        "    if pos == 'q':#quit means quit\n",
        "        print(\"You Lose\")\n",
        "        break\n",
        "    if not pos.isdigit():\n",
        "        print(\"Invalid Move\")\n",
        "        continue\n",
        "    pos = int(pos)\n",
        "    if not make_valid_move(pos, positions):\n",
        "        continue\n",
        "    if make_forward(pos, positions):\n",
        "        display_game(positions)\n",
        "        if check_if_lose(positions):\n",
        "            print(\"You Lose\")\n",
        "            break\n",
        "        if check_if_win(positions):\n",
        "            print(\"You Win\")\n",
        "            break\n"
      ],
      "metadata": {
        "id": "vsPRoAJ5WOwH",
        "colab": {
          "base_uri": "https://localhost:8080/"
        },
        "outputId": "caa7e5ac-56c4-42c2-ac3f-84e2a008133a"
      },
      "execution_count": null,
      "outputs": [
        {
          "output_type": "stream",
          "name": "stdout",
          "text": [
            "[ 0 ,  1 ,  2 ,  3 ,  4 ,  5 ,  6 ]\n",
            "['G', 'G', 'G', '-', 'B', 'B', 'B']\n",
            "Press q to quit or Enter the position: 2\n",
            "[ 0 ,  1 ,  2 ,  3 ,  4 ,  5 ,  6 ]\n",
            "['G', 'G', '-', 'G', 'B', 'B', 'B']\n",
            "[ 0 ,  1 ,  2 ,  3 ,  4 ,  5 ,  6 ]\n",
            "['G', 'G', '-', 'G', 'B', 'B', 'B']\n",
            "Press q to quit or Enter the position: 4\n",
            "[ 0 ,  1 ,  2 ,  3 ,  4 ,  5 ,  6 ]\n",
            "['G', 'G', 'B', 'G', '-', 'B', 'B']\n",
            "[ 0 ,  1 ,  2 ,  3 ,  4 ,  5 ,  6 ]\n",
            "['G', 'G', 'B', 'G', '-', 'B', 'B']\n",
            "Press q to quit or Enter the position: 5\n",
            "[ 0 ,  1 ,  2 ,  3 ,  4 ,  5 ,  6 ]\n",
            "['G', 'G', 'B', 'G', 'B', '-', 'B']\n",
            "[ 0 ,  1 ,  2 ,  3 ,  4 ,  5 ,  6 ]\n",
            "['G', 'G', 'B', 'G', 'B', '-', 'B']\n",
            "Press q to quit or Enter the position: 3\n",
            "[ 0 ,  1 ,  2 ,  3 ,  4 ,  5 ,  6 ]\n",
            "['G', 'G', 'B', '-', 'B', 'G', 'B']\n",
            "[ 0 ,  1 ,  2 ,  3 ,  4 ,  5 ,  6 ]\n",
            "['G', 'G', 'B', '-', 'B', 'G', 'B']\n",
            "Press q to quit or Enter the position: 1\n",
            "[ 0 ,  1 ,  2 ,  3 ,  4 ,  5 ,  6 ]\n",
            "['G', '-', 'B', 'G', 'B', 'G', 'B']\n",
            "[ 0 ,  1 ,  2 ,  3 ,  4 ,  5 ,  6 ]\n",
            "['G', '-', 'B', 'G', 'B', 'G', 'B']\n",
            "Press q to quit or Enter the position: 0\n",
            "[ 0 ,  1 ,  2 ,  3 ,  4 ,  5 ,  6 ]\n",
            "['-', 'G', 'B', 'G', 'B', 'G', 'B']\n",
            "[ 0 ,  1 ,  2 ,  3 ,  4 ,  5 ,  6 ]\n",
            "['-', 'G', 'B', 'G', 'B', 'G', 'B']\n",
            "Press q to quit or Enter the position: 2\n",
            "[ 0 ,  1 ,  2 ,  3 ,  4 ,  5 ,  6 ]\n",
            "['B', 'G', '-', 'G', 'B', 'G', 'B']\n",
            "[ 0 ,  1 ,  2 ,  3 ,  4 ,  5 ,  6 ]\n",
            "['B', 'G', '-', 'G', 'B', 'G', 'B']\n",
            "Press q to quit or Enter the position: 4\n",
            "[ 0 ,  1 ,  2 ,  3 ,  4 ,  5 ,  6 ]\n",
            "['B', 'G', 'B', 'G', '-', 'G', 'B']\n",
            "[ 0 ,  1 ,  2 ,  3 ,  4 ,  5 ,  6 ]\n",
            "['B', 'G', 'B', 'G', '-', 'G', 'B']\n",
            "Press q to quit or Enter the position: 6\n",
            "[ 0 ,  1 ,  2 ,  3 ,  4 ,  5 ,  6 ]\n",
            "['B', 'G', 'B', 'G', 'B', 'G', '-']\n",
            "[ 0 ,  1 ,  2 ,  3 ,  4 ,  5 ,  6 ]\n",
            "['B', 'G', 'B', 'G', 'B', 'G', '-']\n",
            "Press q to quit or Enter the position: 5\n",
            "[ 0 ,  1 ,  2 ,  3 ,  4 ,  5 ,  6 ]\n",
            "['B', 'G', 'B', 'G', 'B', '-', 'G']\n",
            "[ 0 ,  1 ,  2 ,  3 ,  4 ,  5 ,  6 ]\n",
            "['B', 'G', 'B', 'G', 'B', '-', 'G']\n",
            "Press q to quit or Enter the position: 3\n",
            "[ 0 ,  1 ,  2 ,  3 ,  4 ,  5 ,  6 ]\n",
            "['B', 'G', 'B', '-', 'B', 'G', 'G']\n",
            "[ 0 ,  1 ,  2 ,  3 ,  4 ,  5 ,  6 ]\n",
            "['B', 'G', 'B', '-', 'B', 'G', 'G']\n",
            "Press q to quit or Enter the position: 1\n",
            "[ 0 ,  1 ,  2 ,  3 ,  4 ,  5 ,  6 ]\n",
            "['B', '-', 'B', 'G', 'B', 'G', 'G']\n",
            "[ 0 ,  1 ,  2 ,  3 ,  4 ,  5 ,  6 ]\n",
            "['B', '-', 'B', 'G', 'B', 'G', 'G']\n",
            "Press q to quit or Enter the position: 2\n",
            "[ 0 ,  1 ,  2 ,  3 ,  4 ,  5 ,  6 ]\n",
            "['B', 'B', '-', 'G', 'B', 'G', 'G']\n",
            "[ 0 ,  1 ,  2 ,  3 ,  4 ,  5 ,  6 ]\n",
            "['B', 'B', '-', 'G', 'B', 'G', 'G']\n",
            "Press q to quit or Enter the position: 4\n",
            "[ 0 ,  1 ,  2 ,  3 ,  4 ,  5 ,  6 ]\n",
            "['B', 'B', 'B', 'G', '-', 'G', 'G']\n",
            "[ 0 ,  1 ,  2 ,  3 ,  4 ,  5 ,  6 ]\n",
            "['B', 'B', 'B', 'G', '-', 'G', 'G']\n",
            "Press q to quit or Enter the position: 3\n",
            "[ 0 ,  1 ,  2 ,  3 ,  4 ,  5 ,  6 ]\n",
            "['B', 'B', 'B', '-', 'G', 'G', 'G']\n",
            "You Win\n"
          ]
        }
      ]
    },
    {
      "cell_type": "code",
      "source": [],
      "metadata": {
        "id": "gF4rxrVs72tR"
      },
      "execution_count": null,
      "outputs": []
    }
  ]
}